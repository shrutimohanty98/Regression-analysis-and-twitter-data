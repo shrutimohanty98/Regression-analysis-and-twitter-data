{
  "nbformat": 4,
  "nbformat_minor": 0,
  "metadata": {
    "colab": {
      "name": "Project4_Twitter_Shruti",
      "provenance": [],
      "collapsed_sections": [],
      "toc_visible": true
    },
    "kernelspec": {
      "name": "python3",
      "display_name": "Python 3"
    },
    "language_info": {
      "name": "python"
    },
    "accelerator": "GPU"
  },
  "cells": [
    {
      "cell_type": "code",
      "execution_count": 1,
      "metadata": {
        "colab": {
          "base_uri": "https://localhost:8080/"
        },
        "id": "-ovt8Ktz6YoJ",
        "outputId": "b96aee32-d24d-45af-e415-72b57dc7548e"
      },
      "outputs": [
        {
          "output_type": "stream",
          "name": "stdout",
          "text": [
            "Drive already mounted at /content/drive; to attempt to forcibly remount, call drive.mount(\"/content/drive\", force_remount=True).\n"
          ]
        }
      ],
      "source": [
        "import json\n",
        "import numpy as np\n",
        "import re\n",
        "from google.colab import drive\n",
        "drive.mount(\"/content/drive\")"
      ]
    },
    {
      "cell_type": "code",
      "source": [
        "def report_statistics(filename):\n",
        "    with open(filename, 'r') as file:\n",
        "        lines = file.readlines()\n",
        "        max_time = 0\n",
        "        min_time = np.inf\n",
        "        total_followers = 0\n",
        "        total_retweets = 0\n",
        "        total_tweets = len(lines)\n",
        "        for line in lines:\n",
        "            json_obj = json.loads(line)\n",
        "            if json_obj['citation_date'] > max_time:\n",
        "                max_time = json_obj['citation_date']\n",
        "            if json_obj['citation_date'] < min_time:\n",
        "                min_time = json_obj['citation_date']\n",
        "            total_followers += json_obj['author']['followers']\n",
        "            total_retweets += json_obj['metrics']['citations']['total']\n",
        "        avg_tweets_per_h = total_tweets * 3600 / (max_time - min_time)\n",
        "        avg_followers_per_tweet = total_followers / total_tweets\n",
        "        avg_retweets_per_tweet = total_retweets / total_tweets\n",
        "        print(filename)\n",
        "        print('Average number of tweets per hour: ', avg_tweets_per_h)\n",
        "        print('Average number of followers of users posting the tweets per tweet: ',\n",
        "              avg_followers_per_tweet)\n",
        "        print('Average number of retweets per tweet: ', avg_retweets_per_tweet)\n",
        "        print('-' * 50)"
      ],
      "metadata": {
        "id": "dMfy8UMv-mj9"
      },
      "execution_count": 15,
      "outputs": []
    },
    {
      "cell_type": "code",
      "source": [
        ""
      ],
      "metadata": {
        "id": "r2204aMRGllL"
      },
      "execution_count": null,
      "outputs": []
    },
    {
      "cell_type": "code",
      "execution_count": null,
      "metadata": {
        "colab": {
          "base_uri": "https://localhost:8080/"
        },
        "id": "oZTmJUQX-sV7",
        "outputId": "a12b2eed-3e6f-4c52-b33b-8aab054a244f"
      },
      "outputs": [
        {
          "output_type": "stream",
          "name": "stdout",
          "text": [
            "/content/drive/MyDrive/ECE219/Project4/ECE219_tweet_data/tweets_#gohawks.txt\n",
            "Average number of tweets per hour:  292.48785062173687\n",
            "Average number of followers of users posting the tweets per tweet:  2217.9237355281984\n",
            "Average number of retweets per tweet:  2.0132093991319877\n",
            "--------------------------------------------------\n",
            "/content/drive/MyDrive/ECE219/Project4/ECE219_tweet_data/tweets_#gopatriots.txt\n",
            "Average number of tweets per hour:  40.954698006061946\n",
            "Average number of followers of users posting the tweets per tweet:  1427.2526051635405\n",
            "Average number of retweets per tweet:  1.4081919101697078\n",
            "--------------------------------------------------\n",
            "/content/drive/MyDrive/ECE219/Project4/ECE219_tweet_data/tweets_#nfl.txt\n",
            "Average number of tweets per hour:  397.0213901819841\n",
            "Average number of followers of users posting the tweets per tweet:  4662.37544523693\n",
            "Average number of retweets per tweet:  1.5344602655543254\n",
            "--------------------------------------------------\n",
            "/content/drive/MyDrive/ECE219/Project4/ECE219_tweet_data/tweets_#patriots.txt\n",
            "Average number of tweets per hour:  750.8942646068899\n",
            "Average number of followers of users posting the tweets per tweet:  3280.4635616550277\n",
            "Average number of retweets per tweet:  1.7852871288476946\n",
            "--------------------------------------------------\n",
            "/content/drive/MyDrive/ECE219/Project4/ECE219_tweet_data/tweets_#sb49.txt\n",
            "Average number of tweets per hour:  1276.8570598680474\n",
            "Average number of followers of users posting the tweets per tweet:  10374.160292019487\n",
            "Average number of retweets per tweet:  2.52713444111402\n",
            "--------------------------------------------------\n",
            "/content/drive/MyDrive/ECE219/Project4/ECE219_tweet_data/tweets_#superbowl.txt\n",
            "Average number of tweets per hour:  2072.11840170408\n",
            "Average number of followers of users posting the tweets per tweet:  8814.96799424623\n",
            "Average number of retweets per tweet:  2.3911895819207736\n",
            "--------------------------------------------------\n"
          ]
        }
      ],
      "source": [
        "files = ['/content/drive/MyDrive/ECE219/Project4/ECE219_tweet_data/tweets_#gohawks.txt', '/content/drive/MyDrive/ECE219/Project4/ECE219_tweet_data/tweets_#gopatriots.txt', \n",
        "         '/content/drive/MyDrive/ECE219/Project4/ECE219_tweet_data/tweets_#nfl.txt', '/content/drive/MyDrive/ECE219/Project4/ECE219_tweet_data/tweets_#patriots.txt', \n",
        "         '/content/drive/MyDrive/ECE219/Project4/ECE219_tweet_data/tweets_#sb49.txt', '/content/drive/MyDrive/ECE219/Project4/ECE219_tweet_data/tweets_#superbowl.txt']\n",
        "\n",
        "for file in files:\n",
        "    report_statistics(file)"
      ]
    },
    {
      "cell_type": "code",
      "source": [
        ""
      ],
      "metadata": {
        "id": "jnRA9uYHj2-2"
      },
      "execution_count": null,
      "outputs": []
    },
    {
      "cell_type": "code",
      "execution_count": null,
      "metadata": {
        "id": "NNH-YJB6_BkK"
      },
      "outputs": [],
      "source": [
        "import math \n",
        "import matplotlib.pyplot as plt\n",
        "import datetime\n",
        "import pytz\n",
        "\n",
        "pst_tz = pytz.timezone('America/Los_Angeles')\n",
        "\n",
        "def report_tweets(filename):\n",
        "    with open(filename, 'r') as file:\n",
        "        lines = file.readlines()\n",
        "        max_time = 0\n",
        "        min_time = np.inf\n",
        "        total_tweets = len(lines)\n",
        "        for line in lines:\n",
        "            json_obj = json.loads(line)\n",
        "            if json_obj['citation_date'] > max_time:\n",
        "                max_time = json_obj['citation_date']\n",
        "            if json_obj['citation_date'] < min_time:\n",
        "                min_time = json_obj['citation_date']\n",
        "        \n",
        "        total_hours = math.ceil((max_time - min_time) / 3600)\n",
        "        n_tweets = [0] * total_hours\n",
        "        for line in lines:\n",
        "            json_obj = json.loads(line)\n",
        "            index = math.floor((json_obj['citation_date'] - min_time) / 3600)\n",
        "            n_tweets[index] += 1\n",
        "        return n_tweets"
      ]
    },
    {
      "cell_type": "code",
      "execution_count": null,
      "metadata": {
        "id": "MaVNWH77GV4B",
        "colab": {
          "base_uri": "https://localhost:8080/",
          "height": 791
        },
        "outputId": "ef42302c-2310-45d4-df90-00f1b6973a08"
      },
      "outputs": [
        {
          "output_type": "display_data",
          "data": {
            "text/plain": [
              "<Figure size 720x432 with 1 Axes>"
            ],
            "image/png": "[encoded data removed]"
          },
          "metadata": {
            "needs_background": "light"
          }
        },
        {
          "output_type": "display_data",
          "data": {
            "text/plain": [
              "<Figure size 720x432 with 1 Axes>"
            ],
            "image/png": "[encoded data removed]"
          },
          "metadata": {
            "needs_background": "light"
          }
        }
      ],
      "source": [
        "q2_files = ['/content/drive/MyDrive/ECE219/Project4/ECE219_tweet_data/tweets_#nfl.txt','/content/drive/MyDrive/ECE219/Project4/ECE219_tweet_data/tweets_#superbowl.txt']\n",
        "\n",
        "for file in q2_files:\n",
        "    n_tweets = report_tweets(file)\n",
        "    plt.figure(figsize=(10,6))\n",
        "    plt.bar(range(len(n_tweets)),n_tweets)\n",
        "    plt.xlabel('Hours over time')\n",
        "    plt.ylabel('Number of tweets')\n",
        "    plt.title('number of tweets in hours for '+file)"
      ]
    },
    {
      "cell_type": "markdown",
      "source": [
        "#Fanbase Prediction"
      ],
      "metadata": {
        "id": "3xHjwjwx8tIU"
      }
    },
    {
      "cell_type": "code",
      "source": [
        "# import json\n",
        "\n",
        "# # exclude any tweets whose author is not from Washington or Massachusetts\n",
        "# WA_substrings = ['Washington', 'Seattle', 'WA']\n",
        "# MA_substrings = ['Massachusetts', 'Boston', 'MA']\n",
        "\n",
        "# superbowl_dataset_trimmed = []\n",
        "\n",
        "# with open('/content/drive/MyDrive/ECE219/Project4/ECE219_tweet_data/tweets_#superbowl.txt', 'r') as file:\n",
        "#     lines = file.readlines()\n",
        "    \n",
        "#     for line in lines:\n",
        "#         json_obj = json.loads(line)\n",
        "#         location = json_obj['tweet']['user']['location']\n",
        "        \n",
        "#         for w in WA_substrings:\n",
        "#             if w in location:\n",
        "#                 superbowl_dataset_trimmed.append((json_obj['tweet']['text'], 'Washington'))\n",
        "#                 break\n",
        "                \n",
        "#         for m in MA_substrings:\n",
        "#             if m in location:\n",
        "#                 superbowl_dataset_trimmed.append((json_obj['tweet']['text'], 'Massachusetts'))\n",
        "#                 break\n",
        "# # print(superbowl_dataset_trimmed)"
      ],
      "metadata": {
        "id": "uuwQJ1KS8wah"
      },
      "execution_count": 6,
      "outputs": []
    },
    {
      "cell_type": "code",
      "source": [
        "###### to get the labels of the dataset \n",
        "# 1. Get the hashtags using Regex\n",
        "# 2. Check pattern if in hawks or patriots\n",
        "# 3. binary classification problem\n",
        "# 4. Remove # from the tweet before passing it into the lemmatiser or count vectoriser \n",
        "\n",
        "\n",
        "\n",
        "\n",
        "import json\n",
        "\n",
        "\n",
        "superbowl_dataset_trimmed = []\n",
        "\n",
        "with open('/content/drive/MyDrive/ECE219/Project4/ECE219_tweet_data/tweets_#superbowl.txt', 'r') as file:\n",
        "    lines = file.readlines()\n",
        "    \n",
        "    for line in lines:\n",
        "        json_obj = json.loads(line)\n",
        "        text = json_obj['tweet']['text']\n",
        "        team_label=[]\n",
        "\n",
        "        hash_val=[]\n",
        "        hash_val1=[]\n",
        "\n",
        "        hashtag=  re.findall(r\"#(\\w+)\", text)\n",
        "\n",
        "        hash = \" \". join(hashtag)\n",
        "\n",
        "        hash_val.append( re.findall(r\"hawk(?i)\", hash))\n",
        "        \n",
        "\n",
        "        hash_val1.append( re.findall(r\"patriot(?i)\", hash))\n",
        "          \n",
        "\n",
        "        if (hash_val[0] and not hash_val1[0]):\n",
        "          team_label.append([1,0])\n",
        "        elif(not hash_val[0] and hash_val1[0]):\n",
        "          team_label.append([0,1])\n",
        "        elif (not hash_val[0] and not hash_val1[0]):\n",
        "          team_label.append([0,0])\n",
        "        else:\n",
        "          team_label.append([1,1])\n",
        "        \n",
        "\n",
        "\n",
        "        \n",
        "        text = json_obj['tweet']['text'].replace(\"#\",\" \")\n",
        "        superbowl_dataset_trimmed.append([text, team_label[0]])\n",
        "\n",
        "\n",
        "\n",
        "\n",
        "\n",
        "\n",
        "        \n",
        "        "
      ],
      "metadata": {
        "colab": {
          "base_uri": "https://localhost:8080/"
        },
        "id": "B9z2Q4uvNUjs",
        "outputId": "a8d7fd6d-654f-4683-fc9e-ad96aaae7b81"
      },
      "execution_count": 2,
      "outputs": [
        {
          "output_type": "stream",
          "name": "stderr",
          "text": [
            "/usr/local/lib/python3.7/dist-packages/ipykernel_launcher.py:30: DeprecationWarning: Flags not at the start of the expression 'hawk(?i)'\n",
            "/usr/local/lib/python3.7/dist-packages/ipykernel_launcher.py:33: DeprecationWarning: Flags not at the start of the expression 'patriot(?i)'\n"
          ]
        }
      ]
    },
    {
      "cell_type": "code",
      "source": [
        "\n",
        "team=[]\n",
        "team.append([1,0])\n",
        "print(team[0])"
      ],
      "metadata": {
        "colab": {
          "base_uri": "https://localhost:8080/"
        },
        "id": "YwoH7xjN15ge",
        "outputId": "3bc97e3a-14ef-4008-fe67-89a48ebb9fff"
      },
      "execution_count": 18,
      "outputs": [
        {
          "output_type": "stream",
          "name": "stdout",
          "text": [
            "[1, 0]\n"
          ]
        }
      ]
    },
    {
      "cell_type": "code",
      "source": [
        "def clean(text):\n",
        "  text = re.sub(r'^https?:\\/\\/.*[\\r\\n]*', '', text, flags=re.MULTILINE)\n",
        "  if text==\"\":\n",
        "    return \"\"\n",
        "  texter = re.sub(r\"<br />\", \" \", text)\n",
        "  texter = re.sub(r\"&quot;\", \"\\\"\",texter)\n",
        "  texter = re.sub('&#39;', \"\\\"\", texter)\n",
        "  texter = re.sub('\\n', \" \", texter)\n",
        "  texter = re.sub(' u ',\" you \", texter)\n",
        "  texter = re.sub('`',\"\", texter)\n",
        "  texter = re.sub(' +', ' ', texter)\n",
        "  texter = re.sub(r\"(!)\\1+\", r\"!\", texter)\n",
        "  texter = re.sub(r\"(\\?)\\1+\", r\"?\", texter)\n",
        "  texter = re.sub('&amp;', 'and', texter)\n",
        "  texter = re.sub('\\r', ' ',texter)\n",
        "  clean = re.compile('<.*?>')\n",
        "  texter = texter.encode('ascii', 'ignore').decode('ascii')\n",
        "  texter = re.sub(clean, '', texter)\n",
        "  \n",
        "  return texter"
      ],
      "metadata": {
        "id": "cyYYjL5ATzsT"
      },
      "execution_count": 17,
      "outputs": []
    },
    {
      "cell_type": "code",
      "source": [
        "# extract the labels out from this \n",
        "# remove those with [0,0] from this data\n",
        "\n",
        "superbowl_dataset=[]\n",
        "labels_superbowl = []\n",
        "for data in superbowl_dataset_trimmed:\n",
        "\n",
        "\n",
        "  if (data[1]!=[0,0] and data[1]!=[1,1]):\n",
        "    \n",
        "    superbowl_dataset.append(data[0])\n",
        "    labels_superbowl.append(data[1])\n",
        "\n",
        "\n",
        "\n"
      ],
      "metadata": {
        "id": "QYa5_x4QYJLV"
      },
      "execution_count": 39,
      "outputs": []
    },
    {
      "cell_type": "code",
      "source": [
        ""
      ],
      "metadata": {
        "colab": {
          "base_uri": "https://localhost:8080/"
        },
        "id": "iHB1ByxC6jyw",
        "outputId": "2bed5fcd-e8dd-4125-8921-27f433cc7b15"
      },
      "execution_count": 41,
      "outputs": [
        {
          "output_type": "stream",
          "name": "stdout",
          "text": [
            "(158153,)\n"
          ]
        }
      ]
    },
    {
      "cell_type": "code",
      "source": [
        "import numpy as np\n",
        "from sklearn.model_selection import train_test_split\n",
        "\n",
        "# x_superbowl = np.array(superbowl_dataset_trimmed)[:, 0]\n",
        "# y_superbowl = np.array(superbowl_dataset_trimmed)[:, 1]\n",
        "\n",
        "# y_superbowl_binary = np.zeros(y_superbowl.shape)\n",
        "# y_superbowl_binary[y_superbowl == 'Washington'] = 1\n",
        "\n",
        "x_train, x_test, y_train, y_test = train_test_split(superbowl_dataset, labels_superbowl, test_size=0.2, random_state=42)"
      ],
      "metadata": {
        "id": "R_A7CwbD81mg"
      },
      "execution_count": 42,
      "outputs": []
    },
    {
      "cell_type": "code",
      "source": [
        "import nltk\n",
        "nltk.download('wordnet')\n",
        "nltk.download('punkt')\n",
        "nltk.download('averaged_perceptron_tagger')\n",
        "\n",
        "from nltk import pos_tag\n",
        "from nltk.tokenize import word_tokenize\n",
        "from nltk.stem.wordnet import WordNetLemmatizer\n",
        "from nltk.corpus import wordnet as wn\n",
        "from collections import defaultdict\n",
        "\n",
        "# pos_tags: treebank to wordnet\n",
        "tag_map = defaultdict(lambda: wn.NOUN)\n",
        "tag_map['J'] = wn.ADJ\n",
        "tag_map['V'] = wn.VERB\n",
        "tag_map['R'] = wn.ADV\n",
        "\n",
        "wnl = WordNetLemmatizer()\n",
        "    \n",
        "def lemmatize(data):\n",
        "    lemmatized = []\n",
        "    \n",
        "    for doc in data:\n",
        "        doc = clean(doc)\n",
        "        tokens = word_tokenize(doc)\n",
        "        words = [wnl.lemmatize(word, tag_map[tag[0]]) for word,tag in pos_tag(tokens) \n",
        "                 if wnl.lemmatize(word, tag_map[tag[0]]).isalpha()]\n",
        "        sentence = ' '.join(words)\n",
        "        lemmatized.append(sentence)\n",
        "    return lemmatized"
      ],
      "metadata": {
        "colab": {
          "base_uri": "https://localhost:8080/"
        },
        "id": "fsQM08GS89-q",
        "outputId": "fa9ac1a4-2a45-4a21-effc-92c45163800c"
      },
      "execution_count": 43,
      "outputs": [
        {
          "output_type": "stream",
          "name": "stdout",
          "text": [
            "[nltk_data] Downloading package wordnet to /root/nltk_data...\n",
            "[nltk_data]   Package wordnet is already up-to-date!\n",
            "[nltk_data] Downloading package punkt to /root/nltk_data...\n",
            "[nltk_data]   Package punkt is already up-to-date!\n",
            "[nltk_data] Downloading package averaged_perceptron_tagger to\n",
            "[nltk_data]     /root/nltk_data...\n",
            "[nltk_data]   Package averaged_perceptron_tagger is already up-to-\n",
            "[nltk_data]       date!\n"
          ]
        }
      ]
    },
    {
      "cell_type": "code",
      "source": [
        "from sklearn.feature_extraction.text import TfidfVectorizer\n",
        "from sklearn.decomposition import TruncatedSVD\n",
        "\n",
        "x_train_lemmatized = lemmatize(x_train)\n",
        "x_test_lemmatized = lemmatize(x_test)\n",
        "\n",
        "tfidf_vectorizer = TfidfVectorizer(stop_words='english', min_df=3)\n",
        "x_train_tfidf = tfidf_vectorizer.fit_transform(x_train_lemmatized)\n",
        "x_test_tfidf = tfidf_vectorizer.transform(x_test_lemmatized)\n",
        "\n",
        "svd = TruncatedSVD(n_components=50, random_state=42)\n",
        "x_train_svd = svd.fit_transform(x_train_tfidf)\n",
        "x_test_svd = svd.transform(x_test_tfidf)"
      ],
      "metadata": {
        "id": "Fz7poPmN9BJ8"
      },
      "execution_count": 44,
      "outputs": []
    },
    {
      "cell_type": "code",
      "source": [
        "print(x_train_svd.shape)\n",
        "print(x_test_svd.shape)\n",
        "print(np.array(y_train).shape)\n",
        "print(np.array(y_test).shape)"
      ],
      "metadata": {
        "id": "BftRYPexgYnz",
        "colab": {
          "base_uri": "https://localhost:8080/"
        },
        "outputId": "d4fac5f7-56c3-4e51-c500-d46eb92d8f6d"
      },
      "execution_count": 45,
      "outputs": [
        {
          "output_type": "stream",
          "name": "stdout",
          "text": [
            "(126522, 50)\n",
            "(31631, 50)\n",
            "(126522, 2)\n",
            "(31631, 2)\n"
          ]
        }
      ]
    },
    {
      "cell_type": "markdown",
      "source": [
        "## Perform Binary Classification task"
      ],
      "metadata": {
        "id": "D8DaI0ccVKh2"
      }
    },
    {
      "cell_type": "code",
      "source": [
        "# develop y labels \n",
        "y_train_label = []\n",
        "y_test_label=[]\n",
        "for label in y_train:\n",
        "  if(label==[0,1]):\n",
        "    y_train_label.append(0)\n",
        "  else:\n",
        "    y_train_label.append(1)\n",
        "\n",
        "for label in y_test:\n",
        "  if(label==[0,1]):\n",
        "    y_test_label.append(0)\n",
        "  else:\n",
        "    y_test_label.append(1)\n"
      ],
      "metadata": {
        "id": "WP0UdTNXWvqH"
      },
      "execution_count": 51,
      "outputs": []
    },
    {
      "cell_type": "markdown",
      "source": [
        "## Logistic Regression"
      ],
      "metadata": {
        "id": "oj3JyBq6ezHa"
      }
    },
    {
      "cell_type": "code",
      "source": [
        "# Logistic Regression: GridSearch\n",
        "from sklearn.linear_model import LogisticRegression\n",
        "from sklearn.model_selection import GridSearchCV\n",
        "import pandas as pd\n",
        "\n",
        "\n",
        "grid_logistic = GridSearchCV(estimator=LogisticRegression(random_state=42), \n",
        "                        param_grid={'C':[10**-2,10**-1,10**0,10**1,10**2],\n",
        "                                   'penalty': [ 'l2', 'none']}, \n",
        "                        cv=4, n_jobs=-1, verbose=1).fit(x_train_svd, y_train_label)\n",
        "\n",
        "result_logistic = pd.DataFrame(grid_logistic.cv_results_)[['mean_test_score', 'param_C', 'param_penalty']]\n",
        "result_logistic = result_logistic.sort_values(by=['mean_test_score'], ascending=False).reset_index(drop=True)\n",
        "result_logistic.head()"
      ],
      "metadata": {
        "colab": {
          "base_uri": "https://localhost:8080/",
          "height": 422
        },
        "id": "4pIm1GQ89Bw4",
        "outputId": "272fd709-74e4-45ea-ec4e-6e4d96fef404"
      },
      "execution_count": 55,
      "outputs": [
        {
          "output_type": "stream",
          "name": "stdout",
          "text": [
            "Fitting 4 folds for each of 10 candidates, totalling 40 fits\n"
          ]
        },
        {
          "output_type": "stream",
          "name": "stderr",
          "text": [
            "/usr/local/lib/python3.7/dist-packages/sklearn/linear_model/_logistic.py:1484: UserWarning: Setting penalty='none' will ignore the C and l1_ratio parameters\n",
            "  \"Setting penalty='none' will ignore the C and l1_ratio parameters\"\n",
            "/usr/local/lib/python3.7/dist-packages/sklearn/linear_model/_logistic.py:818: ConvergenceWarning: lbfgs failed to converge (status=1):\n",
            "STOP: TOTAL NO. of ITERATIONS REACHED LIMIT.\n",
            "\n",
            "Increase the number of iterations (max_iter) or scale the data as shown in:\n",
            "    https://scikit-learn.org/stable/modules/preprocessing.html\n",
            "Please also refer to the documentation for alternative solver options:\n",
            "    https://scikit-learn.org/stable/modules/linear_model.html#logistic-regression\n",
            "  extra_warning_msg=_LOGISTIC_SOLVER_CONVERGENCE_MSG,\n"
          ]
        },
        {
          "output_type": "execute_result",
          "data": {
            "text/plain": [
              "   mean_test_score param_C param_penalty\n",
              "0         0.980217    0.01          none\n",
              "1         0.980217     0.1          none\n",
              "2         0.980217       1          none\n",
              "3         0.980217      10          none\n",
              "4         0.980217     100          none"
            ],
            "text/html": [
              "\n",
              "  <div id=\"df-36662c79-e2b4-4412-b558-ec4730c41646\">\n",
              "    <div class=\"colab-df-container\">\n",
              "      <div>\n",
              "<style scoped>\n",
              "    .dataframe tbody tr th:only-of-type {\n",
              "        vertical-align: middle;\n",
              "    }\n",
              "\n",
              "    .dataframe tbody tr th {\n",
              "        vertical-align: top;\n",
              "    }\n",
              "\n",
              "    .dataframe thead th {\n",
              "        text-align: right;\n",
              "    }\n",
              "</style>\n",
              "<table border=\"1\" class=\"dataframe\">\n",
              "  <thead>\n",
              "    <tr style=\"text-align: right;\">\n",
              "      <th></th>\n",
              "      <th>mean_test_score</th>\n",
              "      <th>param_C</th>\n",
              "      <th>param_penalty</th>\n",
              "    </tr>\n",
              "  </thead>\n",
              "  <tbody>\n",
              "    <tr>\n",
              "      <th>0</th>\n",
              "      <td>0.980217</td>\n",
              "      <td>0.01</td>\n",
              "      <td>none</td>\n",
              "    </tr>\n",
              "    <tr>\n",
              "      <th>1</th>\n",
              "      <td>0.980217</td>\n",
              "      <td>0.1</td>\n",
              "      <td>none</td>\n",
              "    </tr>\n",
              "    <tr>\n",
              "      <th>2</th>\n",
              "      <td>0.980217</td>\n",
              "      <td>1</td>\n",
              "      <td>none</td>\n",
              "    </tr>\n",
              "    <tr>\n",
              "      <th>3</th>\n",
              "      <td>0.980217</td>\n",
              "      <td>10</td>\n",
              "      <td>none</td>\n",
              "    </tr>\n",
              "    <tr>\n",
              "      <th>4</th>\n",
              "      <td>0.980217</td>\n",
              "      <td>100</td>\n",
              "      <td>none</td>\n",
              "    </tr>\n",
              "  </tbody>\n",
              "</table>\n",
              "</div>\n",
              "      <button class=\"colab-df-convert\" onclick=\"convertToInteractive('df-36662c79-e2b4-4412-b558-ec4730c41646')\"\n",
              "              title=\"Convert this dataframe to an interactive table.\"\n",
              "              style=\"display:none;\">\n",
              "        \n",
              "  <svg xmlns=\"http://www.w3.org/2000/svg\" height=\"24px\"viewBox=\"0 0 24 24\"\n",
              "       width=\"24px\">\n",
              "    <path d=\"M0 0h24v24H0V0z\" fill=\"none\"/>\n",
              "    <path d=\"M18.56 5.44l.94 2.06.94-2.06 2.06-.94-2.06-.94-.94-2.06-.94 2.06-2.06.94zm-11 1L8.5 8.5l.94-2.06 2.06-.94-2.06-.94L8.5 2.5l-.94 2.06-2.06.94zm10 10l.94 2.06.94-2.06 2.06-.94-2.06-.94-.94-2.06-.94 2.06-2.06.94z\"/><path d=\"M17.41 7.96l-1.37-1.37c-.4-.4-.92-.59-1.43-.59-.52 0-1.04.2-1.43.59L10.3 9.45l-7.72 7.72c-.78.78-.78 2.05 0 2.83L4 21.41c.39.39.9.59 1.41.59.51 0 1.02-.2 1.41-.59l7.78-7.78 2.81-2.81c.8-.78.8-2.07 0-2.86zM5.41 20L4 18.59l7.72-7.72 1.47 1.35L5.41 20z\"/>\n",
              "  </svg>\n",
              "      </button>\n",
              "      \n",
              "  <style>\n",
              "    .colab-df-container {\n",
              "      display:flex;\n",
              "      flex-wrap:wrap;\n",
              "      gap: 12px;\n",
              "    }\n",
              "\n",
              "    .colab-df-convert {\n",
              "      background-color: #E8F0FE;\n",
              "      border: none;\n",
              "      border-radius: 50%;\n",
              "      cursor: pointer;\n",
              "      display: none;\n",
              "      fill: #1967D2;\n",
              "      height: 32px;\n",
              "      padding: 0 0 0 0;\n",
              "      width: 32px;\n",
              "    }\n",
              "\n",
              "    .colab-df-convert:hover {\n",
              "      background-color: #E2EBFA;\n",
              "      box-shadow: 0px 1px 2px rgba(60, 64, 67, 0.3), 0px 1px 3px 1px rgba(60, 64, 67, 0.15);\n",
              "      fill: #174EA6;\n",
              "    }\n",
              "\n",
              "    [theme=dark] .colab-df-convert {\n",
              "      background-color: #3B4455;\n",
              "      fill: #D2E3FC;\n",
              "    }\n",
              "\n",
              "    [theme=dark] .colab-df-convert:hover {\n",
              "      background-color: #434B5C;\n",
              "      box-shadow: 0px 1px 3px 1px rgba(0, 0, 0, 0.15);\n",
              "      filter: drop-shadow(0px 1px 2px rgba(0, 0, 0, 0.3));\n",
              "      fill: #FFFFFF;\n",
              "    }\n",
              "  </style>\n",
              "\n",
              "      <script>\n",
              "        const buttonEl =\n",
              "          document.querySelector('#df-36662c79-e2b4-4412-b558-ec4730c41646 button.colab-df-convert');\n",
              "        buttonEl.style.display =\n",
              "          google.colab.kernel.accessAllowed ? 'block' : 'none';\n",
              "\n",
              "        async function convertToInteractive(key) {\n",
              "          const element = document.querySelector('#df-36662c79-e2b4-4412-b558-ec4730c41646');\n",
              "          const dataTable =\n",
              "            await google.colab.kernel.invokeFunction('convertToInteractive',\n",
              "                                                     [key], {});\n",
              "          if (!dataTable) return;\n",
              "\n",
              "          const docLinkHtml = 'Like what you see? Visit the ' +\n",
              "            '<a target=\"_blank\" href=https://colab.research.google.com/notebooks/data_table.ipynb>data table notebook</a>'\n",
              "            + ' to learn more about interactive tables.';\n",
              "          element.innerHTML = '';\n",
              "          dataTable['output_type'] = 'display_data';\n",
              "          await google.colab.output.renderOutput(dataTable, element);\n",
              "          const docLink = document.createElement('div');\n",
              "          docLink.innerHTML = docLinkHtml;\n",
              "          element.appendChild(docLink);\n",
              "        }\n",
              "      </script>\n",
              "    </div>\n",
              "  </div>\n",
              "  "
            ]
          },
          "metadata": {},
          "execution_count": 55
        }
      ]
    },
    {
      "cell_type": "code",
      "source": [
        "logistic_optim = LogisticRegression(penalty=grid_logistic.best_params_['penalty'], \n",
        "                                    C=grid_logistic.best_params_['C'], random_state=42)\n",
        "\n",
        "logistic_optim.fit(x_train_svd, y_train_label)"
      ],
      "metadata": {
        "colab": {
          "base_uri": "https://localhost:8080/"
        },
        "id": "xunOZi7h9I7q",
        "outputId": "6de17a1a-0a3c-4419-f1f4-e8683e7b170e"
      },
      "execution_count": 57,
      "outputs": [
        {
          "output_type": "stream",
          "name": "stderr",
          "text": [
            "/usr/local/lib/python3.7/dist-packages/sklearn/linear_model/_logistic.py:1484: UserWarning: Setting penalty='none' will ignore the C and l1_ratio parameters\n",
            "  \"Setting penalty='none' will ignore the C and l1_ratio parameters\"\n",
            "/usr/local/lib/python3.7/dist-packages/sklearn/linear_model/_logistic.py:818: ConvergenceWarning: lbfgs failed to converge (status=1):\n",
            "STOP: TOTAL NO. of ITERATIONS REACHED LIMIT.\n",
            "\n",
            "Increase the number of iterations (max_iter) or scale the data as shown in:\n",
            "    https://scikit-learn.org/stable/modules/preprocessing.html\n",
            "Please also refer to the documentation for alternative solver options:\n",
            "    https://scikit-learn.org/stable/modules/linear_model.html#logistic-regression\n",
            "  extra_warning_msg=_LOGISTIC_SOLVER_CONVERGENCE_MSG,\n"
          ]
        },
        {
          "output_type": "execute_result",
          "data": {
            "text/plain": [
              "LogisticRegression(C=0.01, penalty='none', random_state=42)"
            ]
          },
          "metadata": {},
          "execution_count": 57
        }
      ]
    },
    {
      "cell_type": "code",
      "source": [
        "from sklearn.metrics import confusion_matrix\n",
        "from sklearn.metrics import accuracy_score\n",
        "from sklearn.metrics import recall_score\n",
        "from sklearn.metrics import precision_score\n",
        "from sklearn.metrics import f1_score\n",
        "\n",
        "y_pred_logistic = logistic_optim.predict(x_test_svd)\n",
        "y_pred_prob_logistic = logistic_optim.predict_proba(x_test_svd)[:,1]\n",
        "\n",
        "print('Logistic Regression:')\n",
        "print('confusion_matrix:\\n', confusion_matrix(y_test_label, y_pred_logistic))\n",
        "print('accuracy:', accuracy_score(y_test_label, y_pred_logistic))\n",
        "print('recall:', recall_score(y_test_label, y_pred_logistic))\n",
        "print('precision:', precision_score(y_test_label, y_pred_logistic))\n",
        "print('f1_score:', f1_score(y_test_label, y_pred_logistic))"
      ],
      "metadata": {
        "colab": {
          "base_uri": "https://localhost:8080/"
        },
        "id": "O1KxOzRDZ3X0",
        "outputId": "414fa5e1-7763-4ca1-f573-85a5d3b6dab3"
      },
      "execution_count": 58,
      "outputs": [
        {
          "output_type": "stream",
          "name": "stdout",
          "text": [
            "Logistic Regression:\n",
            "confusion_matrix:\n",
            " [[13426   381]\n",
            " [  229 17595]]\n",
            "accuracy: 0.9807151212418197\n",
            "recall: 0.9871521543985637\n",
            "precision: 0.9788050734312417\n",
            "f1_score: 0.9829608938547486\n"
          ]
        }
      ]
    },
    {
      "cell_type": "code",
      "source": [
        "import matplotlib.pyplot as plt\n",
        "from sklearn.metrics import plot_confusion_matrix\n",
        "\n",
        "class_names = ['Patriots', 'Hawks']\n",
        "\n",
        "plot_confusion_matrix(logistic_optim, x_test_svd, y_test_label, display_labels=class_names, \n",
        "                             values_format='d', cmap=plt.cm.Greys)\n",
        "plt.tight_layout()\n",
        "plt.title('Confusion Matrix for Logistic Regression', fontweight='bold')\n",
        "plt.show()"
      ],
      "metadata": {
        "colab": {
          "base_uri": "https://localhost:8080/",
          "height": 368
        },
        "id": "QVjfnnNu9efO",
        "outputId": "35fd116e-c381-4242-b751-056c1206749c"
      },
      "execution_count": 59,
      "outputs": [
        {
          "output_type": "stream",
          "name": "stderr",
          "text": [
            "/usr/local/lib/python3.7/dist-packages/sklearn/utils/deprecation.py:87: FutureWarning: Function plot_confusion_matrix is deprecated; Function `plot_confusion_matrix` is deprecated in 1.0 and will be removed in 1.2. Use one of the class methods: ConfusionMatrixDisplay.from_predictions or ConfusionMatrixDisplay.from_estimator.\n",
            "  warnings.warn(msg, category=FutureWarning)\n"
          ]
        },
        {
          "output_type": "display_data",
          "data": {
            "text/plain": [
              "<Figure size 432x288 with 2 Axes>"
            ],
            "image/png": "[encoded data removed]"
          },
          "metadata": {
            "needs_background": "light"
          }
        }
      ]
    },
    {
      "cell_type": "code",
      "source": [
        ""
      ],
      "metadata": {
        "id": "xQ9oBoT_etpW"
      },
      "execution_count": null,
      "outputs": []
    },
    {
      "cell_type": "markdown",
      "source": [
        "## Random Forest"
      ],
      "metadata": {
        "id": "UrmXbEGmewwa"
      }
    },
    {
      "cell_type": "code",
      "source": [
        "# RandomForest: GridSearch\n",
        "from sklearn.pipeline import Pipeline\n",
        "from sklearn.model_selection import KFold, GridSearchCV\n",
        "from sklearn.preprocessing import StandardScaler\n",
        "from sklearn.ensemble import RandomForestClassifier\n",
        "\n",
        "pipe_rfc = Pipeline([\n",
        "    ('standardize', StandardScaler()),\n",
        "    ('model', RandomForestClassifier(random_state=42))\n",
        "])\n",
        "\n",
        "param_grid = {\n",
        "    'model__max_depth': [10, 30, 50, 70, 100, 200, None]\n",
        "}\n",
        "\n",
        "\n",
        "grid_rfc = GridSearchCV(pipe_rfc, param_grid=param_grid, cv=KFold(5, shuffle=True, random_state=42), n_jobs=-1, verbose=1)\n",
        "grid_rfc.fit(x_train_svd, y_train_label)\n",
        "\n",
        "result_rfc = pd.DataFrame(grid_rfc.cv_results_)[['mean_test_score', 'param_model__max_depth']]\n",
        "result_rfc = result_rfc.sort_values(by=['mean_test_score'], ascending=False).reset_index(drop=True)\n",
        "result_rfc.head()"
      ],
      "metadata": {
        "id": "2uduTUJN960R",
        "colab": {
          "base_uri": "https://localhost:8080/",
          "height": 224
        },
        "outputId": "2dfd8ef5-d188-42f4-e861-c207b057274b"
      },
      "execution_count": 60,
      "outputs": [
        {
          "output_type": "stream",
          "name": "stdout",
          "text": [
            "Fitting 5 folds for each of 7 candidates, totalling 35 fits\n"
          ]
        },
        {
          "output_type": "execute_result",
          "data": {
            "text/plain": [
              "   mean_test_score param_model__max_depth\n",
              "0         0.979664                     50\n",
              "1         0.979664                     70\n",
              "2         0.979664                    100\n",
              "3         0.979664                    200\n",
              "4         0.979664                   None"
            ],
            "text/html": [
              "\n",
              "  <div id=\"df-33d30823-5734-475f-aa16-326c58e2e7f5\">\n",
              "    <div class=\"colab-df-container\">\n",
              "      <div>\n",
              "<style scoped>\n",
              "    .dataframe tbody tr th:only-of-type {\n",
              "        vertical-align: middle;\n",
              "    }\n",
              "\n",
              "    .dataframe tbody tr th {\n",
              "        vertical-align: top;\n",
              "    }\n",
              "\n",
              "    .dataframe thead th {\n",
              "        text-align: right;\n",
              "    }\n",
              "</style>\n",
              "<table border=\"1\" class=\"dataframe\">\n",
              "  <thead>\n",
              "    <tr style=\"text-align: right;\">\n",
              "      <th></th>\n",
              "      <th>mean_test_score</th>\n",
              "      <th>param_model__max_depth</th>\n",
              "    </tr>\n",
              "  </thead>\n",
              "  <tbody>\n",
              "    <tr>\n",
              "      <th>0</th>\n",
              "      <td>0.979664</td>\n",
              "      <td>50</td>\n",
              "    </tr>\n",
              "    <tr>\n",
              "      <th>1</th>\n",
              "      <td>0.979664</td>\n",
              "      <td>70</td>\n",
              "    </tr>\n",
              "    <tr>\n",
              "      <th>2</th>\n",
              "      <td>0.979664</td>\n",
              "      <td>100</td>\n",
              "    </tr>\n",
              "    <tr>\n",
              "      <th>3</th>\n",
              "      <td>0.979664</td>\n",
              "      <td>200</td>\n",
              "    </tr>\n",
              "    <tr>\n",
              "      <th>4</th>\n",
              "      <td>0.979664</td>\n",
              "      <td>None</td>\n",
              "    </tr>\n",
              "  </tbody>\n",
              "</table>\n",
              "</div>\n",
              "      <button class=\"colab-df-convert\" onclick=\"convertToInteractive('df-33d30823-5734-475f-aa16-326c58e2e7f5')\"\n",
              "              title=\"Convert this dataframe to an interactive table.\"\n",
              "              style=\"display:none;\">\n",
              "        \n",
              "  <svg xmlns=\"http://www.w3.org/2000/svg\" height=\"24px\"viewBox=\"0 0 24 24\"\n",
              "       width=\"24px\">\n",
              "    <path d=\"M0 0h24v24H0V0z\" fill=\"none\"/>\n",
              "    <path d=\"M18.56 5.44l.94 2.06.94-2.06 2.06-.94-2.06-.94-.94-2.06-.94 2.06-2.06.94zm-11 1L8.5 8.5l.94-2.06 2.06-.94-2.06-.94L8.5 2.5l-.94 2.06-2.06.94zm10 10l.94 2.06.94-2.06 2.06-.94-2.06-.94-.94-2.06-.94 2.06-2.06.94z\"/><path d=\"M17.41 7.96l-1.37-1.37c-.4-.4-.92-.59-1.43-.59-.52 0-1.04.2-1.43.59L10.3 9.45l-7.72 7.72c-.78.78-.78 2.05 0 2.83L4 21.41c.39.39.9.59 1.41.59.51 0 1.02-.2 1.41-.59l7.78-7.78 2.81-2.81c.8-.78.8-2.07 0-2.86zM5.41 20L4 18.59l7.72-7.72 1.47 1.35L5.41 20z\"/>\n",
              "  </svg>\n",
              "      </button>\n",
              "      \n",
              "  <style>\n",
              "    .colab-df-container {\n",
              "      display:flex;\n",
              "      flex-wrap:wrap;\n",
              "      gap: 12px;\n",
              "    }\n",
              "\n",
              "    .colab-df-convert {\n",
              "      background-color: #E8F0FE;\n",
              "      border: none;\n",
              "      border-radius: 50%;\n",
              "      cursor: pointer;\n",
              "      display: none;\n",
              "      fill: #1967D2;\n",
              "      height: 32px;\n",
              "      padding: 0 0 0 0;\n",
              "      width: 32px;\n",
              "    }\n",
              "\n",
              "    .colab-df-convert:hover {\n",
              "      background-color: #E2EBFA;\n",
              "      box-shadow: 0px 1px 2px rgba(60, 64, 67, 0.3), 0px 1px 3px 1px rgba(60, 64, 67, 0.15);\n",
              "      fill: #174EA6;\n",
              "    }\n",
              "\n",
              "    [theme=dark] .colab-df-convert {\n",
              "      background-color: #3B4455;\n",
              "      fill: #D2E3FC;\n",
              "    }\n",
              "\n",
              "    [theme=dark] .colab-df-convert:hover {\n",
              "      background-color: #434B5C;\n",
              "      box-shadow: 0px 1px 3px 1px rgba(0, 0, 0, 0.15);\n",
              "      filter: drop-shadow(0px 1px 2px rgba(0, 0, 0, 0.3));\n",
              "      fill: #FFFFFF;\n",
              "    }\n",
              "  </style>\n",
              "\n",
              "      <script>\n",
              "        const buttonEl =\n",
              "          document.querySelector('#df-33d30823-5734-475f-aa16-326c58e2e7f5 button.colab-df-convert');\n",
              "        buttonEl.style.display =\n",
              "          google.colab.kernel.accessAllowed ? 'block' : 'none';\n",
              "\n",
              "        async function convertToInteractive(key) {\n",
              "          const element = document.querySelector('#df-33d30823-5734-475f-aa16-326c58e2e7f5');\n",
              "          const dataTable =\n",
              "            await google.colab.kernel.invokeFunction('convertToInteractive',\n",
              "                                                     [key], {});\n",
              "          if (!dataTable) return;\n",
              "\n",
              "          const docLinkHtml = 'Like what you see? Visit the ' +\n",
              "            '<a target=\"_blank\" href=https://colab.research.google.com/notebooks/data_table.ipynb>data table notebook</a>'\n",
              "            + ' to learn more about interactive tables.';\n",
              "          element.innerHTML = '';\n",
              "          dataTable['output_type'] = 'display_data';\n",
              "          await google.colab.output.renderOutput(dataTable, element);\n",
              "          const docLink = document.createElement('div');\n",
              "          docLink.innerHTML = docLinkHtml;\n",
              "          element.appendChild(docLink);\n",
              "        }\n",
              "      </script>\n",
              "    </div>\n",
              "  </div>\n",
              "  "
            ]
          },
          "metadata": {},
          "execution_count": 60
        }
      ]
    },
    {
      "cell_type": "code",
      "source": [
        ""
      ],
      "metadata": {
        "id": "LSijF8I2-Brk"
      },
      "execution_count": null,
      "outputs": []
    },
    {
      "cell_type": "code",
      "source": [
        "grid_rfc.best_params_"
      ],
      "metadata": {
        "colab": {
          "base_uri": "https://localhost:8080/"
        },
        "id": "xH1i13_hq88-",
        "outputId": "bf0cd2d4-d601-4e63-b2b0-f06de36a0a6f"
      },
      "execution_count": 64,
      "outputs": [
        {
          "output_type": "execute_result",
          "data": {
            "text/plain": [
              "{'model__max_depth': 50}"
            ]
          },
          "metadata": {},
          "execution_count": 64
        }
      ]
    },
    {
      "cell_type": "code",
      "source": [
        "rfc_optim = RandomForestClassifier(max_depth=grid_rfc.best_params_['model__max_depth'], \n",
        "                                    random_state=42)\n",
        "\n",
        "rfc_optim.fit(x_train_svd, y_train_label)"
      ],
      "metadata": {
        "colab": {
          "base_uri": "https://localhost:8080/"
        },
        "outputId": "ebd6926e-260d-41df-9197-b742cef77a02",
        "id": "gQUtxHoCeKyb"
      },
      "execution_count": 65,
      "outputs": [
        {
          "output_type": "execute_result",
          "data": {
            "text/plain": [
              "RandomForestClassifier(max_depth=50, random_state=42)"
            ]
          },
          "metadata": {},
          "execution_count": 65
        }
      ]
    },
    {
      "cell_type": "code",
      "source": [
        "from sklearn.metrics import confusion_matrix\n",
        "from sklearn.metrics import accuracy_score\n",
        "from sklearn.metrics import recall_score\n",
        "from sklearn.metrics import precision_score\n",
        "from sklearn.metrics import f1_score\n",
        "\n",
        "y_pred_rfc = rfc_optim.predict(x_test_svd)\n",
        "y_pred_prob_rfc = rfc_optim.predict_proba(x_test_svd)[:,1]\n",
        "\n",
        "print('Random Forest Regression:')\n",
        "print('confusion_matrix:\\n', confusion_matrix(y_test_label, y_pred_rfc))\n",
        "print('accuracy:', accuracy_score(y_test_label, y_pred_rfc))\n",
        "print('recall:', recall_score(y_test_label, y_pred_rfc))\n",
        "print('precision:', precision_score(y_test_label, y_pred_rfc))\n",
        "print('f1_score:', f1_score(y_test_label, y_pred_rfc))"
      ],
      "metadata": {
        "colab": {
          "base_uri": "https://localhost:8080/"
        },
        "outputId": "765a25e8-6b58-4eff-9b95-7257eb53b9b9",
        "id": "9r4H6uiReKyp"
      },
      "execution_count": 66,
      "outputs": [
        {
          "output_type": "stream",
          "name": "stdout",
          "text": [
            "Random Forest Regression:\n",
            "confusion_matrix:\n",
            " [[13539   268]\n",
            " [  347 17477]]\n",
            "accuracy: 0.9805570484651134\n",
            "recall: 0.980531867145422\n",
            "precision: 0.9848971541279233\n",
            "f1_score: 0.9827096629087126\n"
          ]
        }
      ]
    },
    {
      "cell_type": "code",
      "source": [
        "import matplotlib.pyplot as plt\n",
        "from sklearn.metrics import plot_confusion_matrix\n",
        "\n",
        "class_names = ['Patriots', 'Hawks']\n",
        "\n",
        "plot_confusion_matrix(rfc_optim, x_test_svd, y_test_label, display_labels=class_names, \n",
        "                             values_format='d', cmap=plt.cm.Greys)\n",
        "plt.tight_layout()\n",
        "plt.title('Confusion Matrix for Random Forest Classifier', fontweight='bold')\n",
        "plt.show()"
      ],
      "metadata": {
        "colab": {
          "base_uri": "https://localhost:8080/",
          "height": 368
        },
        "outputId": "7f93ae8a-22a8-441f-ffb1-4bf924f2155a",
        "id": "845d_M4jeKyp"
      },
      "execution_count": 67,
      "outputs": [
        {
          "output_type": "stream",
          "name": "stderr",
          "text": [
            "/usr/local/lib/python3.7/dist-packages/sklearn/utils/deprecation.py:87: FutureWarning: Function plot_confusion_matrix is deprecated; Function `plot_confusion_matrix` is deprecated in 1.0 and will be removed in 1.2. Use one of the class methods: ConfusionMatrixDisplay.from_predictions or ConfusionMatrixDisplay.from_estimator.\n",
            "  warnings.warn(msg, category=FutureWarning)\n"
          ]
        },
        {
          "output_type": "display_data",
          "data": {
            "text/plain": [
              "<Figure size 432x288 with 2 Axes>"
            ],
            "image/png": "[encoded data removed]"
          },
          "metadata": {
            "needs_background": "light"
          }
        }
      ]
    },
    {
      "cell_type": "code",
      "source": [
        ""
      ],
      "metadata": {
        "id": "b8zbJaXoesUS"
      },
      "execution_count": 67,
      "outputs": []
    }
  ]
}